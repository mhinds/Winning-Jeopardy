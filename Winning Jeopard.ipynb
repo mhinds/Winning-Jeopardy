{
 "cells": [
  {
   "cell_type": "markdown",
   "metadata": {},
   "source": [
    "# Winning Jeopardy\n",
    "This notebook explores a dataset containing ~200,000 questions from 1984 - 2012. It explores various strategies for gaining an advantage into the quesiton answer. \n",
    "\n",
    "First import the data and examine the first few rows."
   ]
  },
  {
   "cell_type": "code",
   "execution_count": 1,
   "metadata": {
    "collapsed": false,
    "scrolled": true
   },
   "outputs": [
    {
     "name": "stdout",
     "output_type": "stream",
     "text": [
      "   Show Number    Air Date      Round                         Category  Value  \\\n",
      "0         4680  2004-12-31  Jeopardy!                          HISTORY   $200   \n",
      "1         4680  2004-12-31  Jeopardy!  ESPN's TOP 10 ALL-TIME ATHLETES   $200   \n",
      "2         4680  2004-12-31  Jeopardy!      EVERYBODY TALKS ABOUT IT...   $200   \n",
      "3         4680  2004-12-31  Jeopardy!                 THE COMPANY LINE   $200   \n",
      "4         4680  2004-12-31  Jeopardy!              EPITAPHS & TRIBUTES   $200   \n",
      "\n",
      "                                            Question      Answer  \n",
      "0  For the last 8 years of his life, Galileo was ...  Copernicus  \n",
      "1  No. 2: 1912 Olympian; football star at Carlisl...  Jim Thorpe  \n",
      "2  The city of Yuma in this state has a record av...     Arizona  \n",
      "3  In 1963, live on \"The Art Linkletter Show\", th...  McDonald's  \n",
      "4  Signer of the Dec. of Indep., framer of the Co...  John Adams  \n"
     ]
    },
    {
     "data": {
      "text/plain": [
       "Index(['Show Number', 'Air Date', 'Round', 'Category', 'Value', 'Question',\n",
       "       'Answer'],\n",
       "      dtype='object')"
      ]
     },
     "execution_count": 1,
     "metadata": {},
     "output_type": "execute_result"
    }
   ],
   "source": [
    "import pandas as pd\n",
    "jeopardy = pd.read_csv('JEOPARDY_CSV.csv')\n",
    "print(jeopardy.head())\n",
    "jeopardy = jeopardy.rename(index=str, columns={' Air Date':'Air Date', ' Question': 'Question', ' Round':'Round', ' Category':'Category', ' Value':'Value', ' Answer':'Answer'})\n",
    "jeopardy.columns"
   ]
  },
  {
   "cell_type": "markdown",
   "metadata": {},
   "source": [
    "A few interesting things come to mind to explore:\n",
    "\n",
    "### 1. Is it possible to glean the answer from reading the question?\n",
    "### 2. Is studying old questions a good strategy for preparation?\n",
    "### 3. Can studying be focused on high value question material?\n",
    "\n",
    "Before analyzing the questions and answers they should be cleaned, tokenized, \n",
    "and stemmed. The following functions remove punctuation, tokenize the text, filter out\n",
    "stop words, and stem the remaining words. NLTK is used for some of the text functions."
   ]
  },
  {
   "cell_type": "code",
   "execution_count": 2,
   "metadata": {
    "collapsed": false
   },
   "outputs": [],
   "source": [
    "import string\n",
    "import nltk\n",
    "from nltk.corpus import stopwords\n",
    "from nltk.stem.porter import *\n",
    "from nltk import ngrams\n",
    "\n",
    "trans = {}\n",
    "for c in string.punctuation:\n",
    "    trans[c] = ''\n",
    "table = str.maketrans(trans)\n",
    "\n",
    "def normalize_text(s):\n",
    "    return s.lower().translate(table)\n",
    "\n",
    "def clean_values(s):\n",
    "    v = s.translate(table)\n",
    "    try:\n",
    "        return int(v)\n",
    "    except ValueError:\n",
    "        return 0\n",
    "\n",
    "def remove_stopwords(word_list):\n",
    "    return [word for word in word_list if word not in stopwords.words('english')]\n",
    "\n",
    "\n",
    "def stem_tokens(tokens):\n",
    "    return [PorterStemmer().stem(item) for item in tokens]\n",
    "\n",
    "\n",
    "def tokenize(text):\n",
    "    tokens = nltk.word_tokenize(text)\n",
    "    stems = stem_tokens(remove_stopwords(tokens))\n",
    "    return stems\n"
   ]
  },
  {
   "cell_type": "code",
   "execution_count": 3,
   "metadata": {
    "collapsed": false
   },
   "outputs": [],
   "source": [
    "jeopardy['clean_question'] = jeopardy['Question'].apply(normalize_text)\n",
    "jeopardy['clean_answer'] = jeopardy['Answer'].apply(normalize_text)\n",
    "jeopardy['clean_value'] = jeopardy['Value'].apply(clean_values)\n",
    "jeopardy['clean_air_date'] = pd.to_datetime(jeopardy['Air Date'])"
   ]
  },
  {
   "cell_type": "markdown",
   "metadata": {},
   "source": [
    "### 1. Is it possible to glean the answer from reading the question?\n",
    "When competing on the show how feasible is it to gain the answer from the\n",
    "question? This can be determined by first cleaning each question and answer\n",
    "so that we are only dealing with important stemmed words. Then, count how \n",
    "many terms from the answer also appear in the question. By dividing by the total \n",
    "number of words in the answer a metric can be established. "
   ]
  },
  {
   "cell_type": "code",
   "execution_count": 4,
   "metadata": {
    "collapsed": false
   },
   "outputs": [],
   "source": [
    "def get_question_answer_similarities(row):\n",
    "    q = tokenize(row['clean_question'])\n",
    "    a = tokenize(row['clean_answer'])\n",
    "    match_count = 0\n",
    "    if len(q) == 0 or len(a) == 0:\n",
    "        return 0\n",
    "    for term in a:\n",
    "        if term in q:\n",
    "            match_count +=1\n",
    "    return match_count/len(a)\n",
    "\n",
    "jeopardy['qa_similarity'] = jeopardy.apply(get_question_answer_similarities,axis=1)\n",
    "mean = jeopardy['qa_similarity'].mean()"
   ]
  },
  {
   "cell_type": "code",
   "execution_count": 5,
   "metadata": {
    "collapsed": false,
    "scrolled": true
   },
   "outputs": [
    {
     "name": "stdout",
     "output_type": "stream",
     "text": [
      "Average Q/A Similarity: 0.04163852739914068\n",
      "Q: if he shows off a person from frankfurt is a hot dog but either way hes one of these\n",
      "A: frankfurter\n",
      "S: 1.0\n",
      "Q: salt pepper sage\n",
      "A: sage\n",
      "S: 1.0\n",
      "Q: of an artist a fish or a wasp its what a mud dauber is\n",
      "A: wasp\n",
      "S: 1.0\n",
      "Q: wind wander wonderful\n",
      "A: wonderful\n",
      "S: 1.0\n",
      "Q: of bruising blanching or browning the one that involves boiling water\n",
      "A: blanching\n",
      "S: 1.0\n",
      "Q: of the atlantic pacific or the arctic the ocean that blue point oysters come from\n",
      "A: the atlantic\n",
      "S: 1.0\n",
      "Q: town in sd that put up 9 statue of fr pierre jean de smet who died in 1873  never visited the town\n",
      "A: de smet\n",
      "S: 1.0\n",
      "Q: of a future land a patent medicine or an alien visitor what hg wells tonobungay is\n",
      "A: patent medicine\n",
      "S: 1.0\n",
      "Q: koi bolshoi borzoi bok choy\n",
      "A: a borzoi\n",
      "S: 1.0\n",
      "Q: invented in the late 50s its a functional circuit formed when diodes transistors etc are integrated\n",
      "A: integrated circuit\n",
      "S: 1.0\n"
     ]
    },
    {
     "name": "stderr",
     "output_type": "stream",
     "text": [
      "/Users/mhinds/anaconda/lib/python3.5/site-packages/ipykernel/__main__.py:7: FutureWarning: sort(columns=....) is deprecated, use sort_values(by=.....)\n"
     ]
    }
   ],
   "source": [
    "#Just printing stuff here\n",
    "def print_full(x):\n",
    "    pd.set_option('display.max_rows', len(x))\n",
    "    print(x)\n",
    "    pd.reset_option('display.max_rows')\n",
    "print(\"Average Q/A Similarity:\",mean)\n",
    "jeopardy = jeopardy.sort('qa_similarity',ascending=False)\n",
    "for i in range(10):\n",
    "    q = str(jeopardy['clean_question'].iloc[i])\n",
    "    a = str(jeopardy['clean_answer'].iloc[i])\n",
    "    s = str(jeopardy['qa_similarity'].iloc[i])\n",
    "    print_full('Q: '+q+'\\nA: '+a+\"\\nS: \"+s)\n"
   ]
  },
  {
   "cell_type": "markdown",
   "metadata": {},
   "source": [
    "The average similarity between question and answer is ~4% indicating that the vast majority\n",
    "questions do not contain the answers. Perhaps this is not a good strategy for winning at \n",
    "Jeopardy. \n",
    "\n",
    "Even looking at the questions and answers that were ranked most similar, it seems a difficult\n",
    "task to glean the answer from the question. In nearly all cases where the answer is 100% \n",
    "contained in the question, the question is intended to contain the answer in the form of a scramble or a \"pick the one that doesn't belong\".\n",
    "\n",
    "### 2. Is studying old questions a good strategy for preparation?\n",
    "\n",
    "Try an n-gram analysis on the cleaned questions. Do newer questions reuse n-grams from older questions?"
   ]
  },
  {
   "cell_type": "code",
   "execution_count": 6,
   "metadata": {
    "collapsed": false
   },
   "outputs": [
    {
     "name": "stderr",
     "output_type": "stream",
     "text": [
      "/Users/mhinds/anaconda/lib/python3.5/site-packages/ipykernel/__main__.py:7: FutureWarning: sort(columns=....) is deprecated, use sort_values(by=.....)\n"
     ]
    },
    {
     "data": {
      "image/png": "[encoded data removed]",
      "text/plain": [
       "<matplotlib.figure.Figure at 0x1208a9be0>"
      ]
     },
     "metadata": {},
     "output_type": "display_data"
    }
   ],
   "source": [
    "import matplotlib.pyplot as plt\n",
    "%matplotlib inline\n",
    "def n_grams(string, n):\n",
    "    tokens = tokenize(string)\n",
    "    return ngrams(tokens,n)\n",
    "\n",
    "jeopardy = jeopardy.sort('clean_air_date')\n",
    "\n",
    "nlist = [1,2,3,4,5,6] ##set check the list of ngrams\n",
    "terms_list = []\n",
    "#print(nlist)\n",
    "averages = []\n",
    "for n in nlist:    \n",
    "    terms_used = set()\n",
    "    question_overlap = []\n",
    "    for i,row in jeopardy.iterrows():\n",
    "        q = list(n_grams(row['clean_question'],n))\n",
    "        #print(list(q))\n",
    "        match_count = 0\n",
    "        if len(q) > 0:\n",
    "            for term in q:   \n",
    "                if term in terms_used:\n",
    "                    match_count+=1\n",
    "            for term in q:\n",
    "                terms_used.add(term)\n",
    "            question_overlap.append(match_count/len(q))\n",
    "        else:\n",
    "            question_overlap.append(0)\n",
    "    jeopardy['question_overlap'] = question_overlap\n",
    "    #print(jeopardy['question_overlap'].mean())\n",
    "    averages.append(jeopardy['question_overlap'].mean())\n",
    "    terms_list.append(terms_used)\n",
    "    #print(averages)\n",
    "plt.bar(left=nlist,height=averages,align='center')\n",
    "plt.title(\"NGram Question Overlap\")\n",
    "plt.xlabel(\"N\")\n",
    "plt.ylabel(\"Average Question Overlap\")\n",
    "plt.show()"
   ]
  },
  {
   "cell_type": "markdown",
   "metadata": {},
   "source": [
    "The question overlap of newer questions with older ones falls off rapidly as the size of the ngram increases. Although limited in its usefulness, this analysis indicates that not much is reused from previous questions. Another interesting approach might be to augment the current analysis using NLTK wordnet to better match meaning in the ngrams. This may be too time consuming given the size of the dataset. \n",
    "\n",
    "### 3. Can studying be focused on high value question material?\n",
    "\n",
    "First, high value and low value questions should be identified. Then, a chisquare test can be used to determine if any of the keywords are statistical outliers. Since a chisquare test requires at least 5 samples to be valid, words with less frequency should be thrown out. "
   ]
  },
  {
   "cell_type": "code",
   "execution_count": 7,
   "metadata": {
    "collapsed": false
   },
   "outputs": [
    {
     "name": "stdout",
     "output_type": "stream",
     "text": [
      "{'poem': (340, 540), 'nightingal': (8, 12), 'schoolboy': (3, 11), 'greatli': (7, 17), 'muniz': (2, 9), 'kuwait': (7, 12), 'newsmagazin': (2, 14), 'tuskege': (3, 15), '110': (13, 28), 'sterl': (6, 19)}\n"
     ]
    }
   ],
   "source": [
    "def is_high_value(row):\n",
    "    if row['clean_value'] > 800:\n",
    "        val = 1\n",
    "    else:\n",
    "        val = 0\n",
    "    return val\n",
    "\n",
    "def get_word_value_counts(word):\n",
    "    low_count = 0\n",
    "    high_count = 0\n",
    "    for i,row in jeopardy.iterrows():\n",
    "        if word in tokenize(row['clean_question']):\n",
    "            if row['high_value'] == 1:\n",
    "                high_count +=1\n",
    "            else:\n",
    "                low_count +=1\n",
    "    return high_count,low_count\n",
    "\n",
    "observed_expected={}\n",
    "comparison_terms = [list(terms_list[0])[i][0] for i in range(50)]\n",
    "\n",
    "jeopardy['high_value']=jeopardy.apply(is_high_value,axis=1)\n",
    "for term in comparison_terms:\n",
    "    vc = get_word_value_counts(term)\n",
    "    if vc[0] > 5 or vc[1] > 5:\n",
    "        observed_expected[term]=vc\n",
    "print(observed_expected)\n"
   ]
  },
  {
   "cell_type": "code",
   "execution_count": 12,
   "metadata": {
    "collapsed": false
   },
   "outputs": [
    {
     "name": "stdout",
     "output_type": "stream",
     "text": [
      "poem [340 540] [ 249.1649841  630.8350159]\n",
      "nightingal [ 8 12] [  5.66284055  14.33715945]\n",
      "schoolboy [ 3 11] [  3.96398838  10.03601162]\n",
      "greatli [ 7 17] [  6.79540866  17.20459134]\n",
      "muniz [2 9] [ 3.1145623  7.8854377]\n",
      "kuwait [ 7 12] [  5.37969852  13.62030148]\n",
      "newsmagazin [ 2 14] [  4.53027244  11.46972756]\n",
      "tuskege [ 3 15] [  5.09655649  12.90344351]\n",
      "110 [13 28] [ 11.60882312  29.39117688]\n",
      "sterl [ 6 19] [  7.07855068  17.92144932]\n",
      "('poem', Power_divergenceResult(statistic=46.194095079174488, pvalue=1.0709927725371787e-11))\n",
      "('nightingal', Power_divergenceResult(statistic=1.3455791016283176, pvalue=0.24605247364517135))\n",
      "('schoolboy', Power_divergenceResult(statistic=0.32702285677427062, pvalue=0.56741741894668074))\n",
      "('greatli', Power_divergenceResult(statistic=0.0085926239747985671, pvalue=0.92614475107497785))\n",
      "('muniz', Power_divergenceResult(statistic=0.55638902743969942, pvalue=0.45571882813430864))\n",
      "('kuwait', Power_divergenceResult(statistic=0.68077029797680078, pvalue=0.40932160095287651))\n",
      "('newsmagazin', Power_divergenceResult(statistic=1.9714107930420057, pvalue=0.16029819384346422))\n",
      "('tuskege', Power_divergenceResult(statistic=1.2031040152837962, pvalue=0.27270216713336393))\n",
      "('110', Power_divergenceResult(statistic=0.23256448143807618, pvalue=0.62962878955327217))\n",
      "('sterl', Power_divergenceResult(statistic=0.22924699514627792, pvalue=0.63208273316191876))\n"
     ]
    },
    {
     "data": {
      "text/plain": [
       "[None, None, None, None, None, None, None, None, None, None]"
      ]
     },
     "execution_count": 12,
     "metadata": {},
     "output_type": "execute_result"
    }
   ],
   "source": [
    "from scipy.stats import chisquare\n",
    "import numpy as np\n",
    "high_value_count = len(jeopardy[jeopardy['high_value']==1])\n",
    "low_value_count = len(jeopardy[jeopardy['high_value']==0])\n",
    "chi_squared = []\n",
    "for term in observed_expected:\n",
    "    total = observed_expected[term][0]+observed_expected[term][1]\n",
    "    total_prop = total/len(jeopardy)\n",
    "    expected_val_high = total_prop*high_value_count\n",
    "    expected_val_low = total_prop*low_value_count\n",
    "    observed = np.array([observed_expected[term][0],observed_expected[term][1]])\n",
    "    expected = np.array([expected_val_high, expected_val_low])\n",
    "    print(term,observed,expected)\n",
    "    chi_squared.append(chisquare(observed,expected))"
   ]
  },
  {
   "cell_type": "markdown",
   "metadata": {},
   "source": [
    "Counting term frequency takes a while due to the size of the dataset (this could probably be improved by caching the term frequencies from number 2), so the scope is limited to the first 50 or so terms. Of those, most are thrown out due to infrequency. One term, \"poem\", does stand out as being particularly frequent and having a high likelihood of being used in high-value questions. If you are studying to compete on Jeopardy, then you would do well to spend extra time studying poems. "
   ]
  },
  {
   "cell_type": "code",
   "execution_count": null,
   "metadata": {
    "collapsed": true
   },
   "outputs": [],
   "source": []
  }
 ],
 "metadata": {
  "kernelspec": {
   "display_name": "Python [Root]",
   "language": "python",
   "name": "Python [Root]"
  },
  "language_info": {
   "codemirror_mode": {
    "name": "ipython",
    "version": 3
   },
   "file_extension": ".py",
   "mimetype": "text/x-python",
   "name": "python",
   "nbconvert_exporter": "python",
   "pygments_lexer": "ipython3",
   "version": "3.5.1"
  }
 },
 "nbformat": 4,
 "nbformat_minor": 0
}
